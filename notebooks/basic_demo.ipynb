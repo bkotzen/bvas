{
 "cells": [
  {
   "cell_type": "markdown",
   "id": "687dc319",
   "metadata": {},
   "source": [
    "# Basic BVAS demo using simulated data"
   ]
  },
  {
   "cell_type": "code",
   "execution_count": 1,
   "id": "30d3f7e9",
   "metadata": {},
   "outputs": [],
   "source": [
    "from bvas import simulate_data, BVASSelector\n",
    "from bvas.map import map_inference\n",
    "from bvas.laplace import laplace_inference\n",
    "import pandas as pd\n",
    "import numpy as np\n",
    "import torch"
   ]
  },
  {
   "cell_type": "markdown",
   "id": "2142f489",
   "metadata": {},
   "source": [
    "### Simulate data"
   ]
  },
  {
   "cell_type": "code",
   "execution_count": 2,
   "id": "dc869a09",
   "metadata": {},
   "outputs": [],
   "source": [
    "num_alleles = 100\n",
    "\n",
    "data = simulate_data(num_alleles=num_alleles, \n",
    "                     duration=26, \n",
    "                     num_variants=100, \n",
    "                     num_regions=10, \n",
    "                     N0=10 ** 4,\n",
    "                     k=0.1, \n",
    "                     seed=0, \n",
    "                     sampling_rate=10, \n",
    "                     strategy='global-median')"
   ]
  },
  {
   "cell_type": "code",
   "execution_count": 3,
   "id": "a10b9d2d",
   "metadata": {},
   "outputs": [
    {
     "name": "stdout",
     "output_type": "stream",
     "text": [
      "Y torch.Size([100])\n",
      "Gamma torch.Size([100, 100])\n",
      "estimated_nu_eff (1,)\n",
      "true_betas torch.Size([100])\n",
      "\n",
      "Estimated effective population size: 490.3\n"
     ]
    }
   ],
   "source": [
    "# inspect simulated data\n",
    "for k, v in data.items():\n",
    "    print(k, v.shape)\n",
    "    \n",
    "print(\"\\nEstimated effective population size: {:.1f}\".format(data['estimated_nu_eff'].item()))"
   ]
  },
  {
   "cell_type": "markdown",
   "id": "eac2aea8",
   "metadata": {},
   "source": [
    "### Create random viruses whose growth rates we're interested in"
   ]
  },
  {
   "cell_type": "code",
   "execution_count": 4,
   "id": "b8ccfedc",
   "metadata": {},
   "outputs": [
    {
     "name": "stdout",
     "output_type": "stream",
     "text": [
      "first variant:\n",
      " tensor([0., 0., 0., 0., 0., 0., 0., 0., 1., 0., 0., 0., 0., 1., 0., 0., 0., 0.,\n",
      "        0., 0., 1., 0., 0., 0., 0., 0., 0., 1., 0., 0., 0., 0., 0., 0., 0., 0.,\n",
      "        0., 0., 1., 0., 0., 0., 0., 0., 0., 0., 0., 0., 0., 0., 0., 0., 1., 0.,\n",
      "        0., 0., 0., 0., 0., 0., 0., 0., 0., 0., 0., 0., 0., 0., 0., 0., 1., 0.,\n",
      "        1., 0., 0., 0., 0., 0., 0., 0., 0., 0., 0., 0., 0., 0., 0., 0., 0., 1.,\n",
      "        0., 0., 0., 0., 0., 0., 0., 0., 0., 0.])\n"
     ]
    }
   ],
   "source": [
    "genotype_matrix = np.random.RandomState(0).binomial(1, 0.1, size=(10, num_alleles))\n",
    "genotype_matrix = torch.from_numpy(genotype_matrix).float()\n",
    "print(\"first variant:\\n\", genotype_matrix[0])"
   ]
  },
  {
   "cell_type": "code",
   "execution_count": 5,
   "id": "2d508365",
   "metadata": {},
   "outputs": [],
   "source": [
    "# give each variant a name\n",
    "variant_names = ['Variant{}'.format(k) for k in range(10)]"
   ]
  },
  {
   "cell_type": "markdown",
   "id": "56f78b7d",
   "metadata": {},
   "source": [
    "### Instantiate BVASSelector object"
   ]
  },
  {
   "cell_type": "code",
   "execution_count": 6,
   "id": "3d5e9b97",
   "metadata": {},
   "outputs": [],
   "source": [
    "# create names for our 100 alleles (the first 10 alleles are non-neutral in the simulation)\n",
    "mutations = [\"Causal{}\".format(k) for k in range(1, 11)] \n",
    "mutations += [\"Spurious{}\".format(k) for k in range(11, 101)] \n",
    "\n",
    "selector = BVASSelector(data['Y'], \n",
    "                        data['Gamma'], \n",
    "                        mutations, \n",
    "                        S=5.0,\n",
    "                        tau=100.0,\n",
    "                        genotype_matrix=genotype_matrix,\n",
    "                        variant_names=variant_names)"
   ]
  },
  {
   "cell_type": "markdown",
   "id": "8225082d",
   "metadata": {},
   "source": [
    "### Run BVAS MCMC-based inference"
   ]
  },
  {
   "cell_type": "code",
   "execution_count": 7,
   "id": "d4dada20",
   "metadata": {},
   "outputs": [
    {
     "data": {
      "application/vnd.jupyter.widget-view+json": {
       "model_id": "ecc3e166af004316b33390acc0b75e8f",
       "version_major": 2,
       "version_minor": 0
      },
      "text/plain": [
       "  0%|          | 0/2500 [00:00<?, ?it/s]"
      ]
     },
     "metadata": {},
     "output_type": "display_data"
    }
   ],
   "source": [
    "selector.run(T=2000, T_burnin=500, seed=1)"
   ]
  },
  {
   "cell_type": "markdown",
   "id": "9da7883e",
   "metadata": {},
   "source": [
    "### Inspect results\n",
    "\n",
    "The allele-level results can be found in the `selector.summary` Pandas DataFrame.\n",
    "\n",
    "- We find that 8 of the 10 true causal alleles are assigned large PIPs\n",
    "- We find that 2 of the 10 true causal alleles are missed \n",
    "    - Specifically we miss the weakest effects, namely Causal1 and Causal6\n",
    "- We find that no spurious alleles are assigned large PIPs\n",
    "- We see that the Beta estimates are regularized somewhat towards zero"
   ]
  },
  {
   "cell_type": "code",
   "execution_count": 8,
   "id": "87bd3d24",
   "metadata": {},
   "outputs": [
    {
     "name": "stdout",
     "output_type": "stream",
     "text": [
      "                 PIP      Beta   BetaStd  Rank\n",
      "Causal4     0.999999  0.051191  0.006197     1\n",
      "Causal5     0.999999  0.065880  0.006351     2\n",
      "Causal10    0.999999 -0.068456  0.009001     3\n",
      "Causal9     0.999999 -0.066190  0.010773     4\n",
      "Causal3     0.999917  0.038770  0.007014     5\n",
      "Causal8     0.889151 -0.027527  0.012958     6\n",
      "Causal7     0.254103 -0.005840  0.011050     7\n",
      "Causal2     0.137435  0.004219  0.009328     8\n",
      "Spurious89  0.022826 -0.000246  0.002102     9\n",
      "Spurious24  0.017642  0.000132  0.001421    10\n",
      "Spurious70  0.015575  0.000216  0.001960    11\n",
      "Spurious80  0.013852  0.000077  0.001198    12\n",
      "Spurious21  0.011893  0.000030  0.000733    13\n",
      "Spurious16  0.009505 -0.000049  0.000814    14\n",
      "Spurious44  0.009007 -0.000085  0.001199    15\n"
     ]
    }
   ],
   "source": [
    "print(selector.summary.iloc[:15][['PIP', 'Beta', 'BetaStd', 'Rank']])"
   ]
  },
  {
   "cell_type": "code",
   "execution_count": 9,
   "id": "85030a0e",
   "metadata": {},
   "outputs": [
    {
     "name": "stdout",
     "output_type": "stream",
     "text": [
      "[Causal1]\t0.01\n",
      "[Causal2]\t0.02\n",
      "[Causal3]\t0.04\n",
      "[Causal4]\t0.06\n",
      "[Causal5]\t0.08\n",
      "[Causal6]\t-0.01\n",
      "[Causal7]\t-0.02\n",
      "[Causal8]\t-0.04\n",
      "[Causal9]\t-0.06\n",
      "[Causal10]\t-0.08\n"
     ]
    }
   ],
   "source": [
    "# print true betas for the causal coefficients\n",
    "for mutation, beta in zip(mutations[:10], data['true_betas'][:10]):\n",
    "    print(\"[{}]\\t{:.2f}\".format(mutation, beta.item()))"
   ]
  },
  {
   "cell_type": "code",
   "execution_count": 10,
   "id": "c36df2a9",
   "metadata": {},
   "outputs": [],
   "source": [
    "# the remaining coefficients are all zero\n",
    "assert data['true_betas'][10:].min().item() == data['true_betas'][10:].max().item() == 0.0"
   ]
  },
  {
   "cell_type": "markdown",
   "id": "9bfd2072",
   "metadata": {},
   "source": [
    "## Look at growth rates of the variants in `genotype_matrix`\n",
    "\n",
    "The lineage-level results can be found in the `selector.growth_rates` Pandas DataFrame."
   ]
  },
  {
   "cell_type": "code",
   "execution_count": 11,
   "id": "e36e32b2",
   "metadata": {},
   "outputs": [
    {
     "data": {
      "text/html": [
       "<div>\n",
       "<style scoped>\n",
       "    .dataframe tbody tr th:only-of-type {\n",
       "        vertical-align: middle;\n",
       "    }\n",
       "\n",
       "    .dataframe tbody tr th {\n",
       "        vertical-align: top;\n",
       "    }\n",
       "\n",
       "    .dataframe thead th {\n",
       "        text-align: right;\n",
       "    }\n",
       "</style>\n",
       "<table border=\"1\" class=\"dataframe\">\n",
       "  <thead>\n",
       "    <tr style=\"text-align: right;\">\n",
       "      <th></th>\n",
       "      <th>GrowthRate</th>\n",
       "      <th>GrowthRateStd</th>\n",
       "      <th>Variant Name</th>\n",
       "    </tr>\n",
       "  </thead>\n",
       "  <tbody>\n",
       "    <tr>\n",
       "      <th>0</th>\n",
       "      <td>0.933880</td>\n",
       "      <td>0.010883</td>\n",
       "      <td>Variant0</td>\n",
       "    </tr>\n",
       "    <tr>\n",
       "      <th>1</th>\n",
       "      <td>0.982832</td>\n",
       "      <td>0.011281</td>\n",
       "      <td>Variant1</td>\n",
       "    </tr>\n",
       "    <tr>\n",
       "      <th>2</th>\n",
       "      <td>0.999996</td>\n",
       "      <td>0.002663</td>\n",
       "      <td>Variant2</td>\n",
       "    </tr>\n",
       "    <tr>\n",
       "      <th>3</th>\n",
       "      <td>1.000038</td>\n",
       "      <td>0.001761</td>\n",
       "      <td>Variant3</td>\n",
       "    </tr>\n",
       "    <tr>\n",
       "      <th>4</th>\n",
       "      <td>1.055174</td>\n",
       "      <td>0.012020</td>\n",
       "      <td>Variant4</td>\n",
       "    </tr>\n",
       "    <tr>\n",
       "      <th>5</th>\n",
       "      <td>1.000311</td>\n",
       "      <td>0.002909</td>\n",
       "      <td>Variant5</td>\n",
       "    </tr>\n",
       "    <tr>\n",
       "      <th>6</th>\n",
       "      <td>0.999733</td>\n",
       "      <td>0.002454</td>\n",
       "      <td>Variant6</td>\n",
       "    </tr>\n",
       "    <tr>\n",
       "      <th>7</th>\n",
       "      <td>1.000086</td>\n",
       "      <td>0.001582</td>\n",
       "      <td>Variant7</td>\n",
       "    </tr>\n",
       "    <tr>\n",
       "      <th>8</th>\n",
       "      <td>0.994209</td>\n",
       "      <td>0.011249</td>\n",
       "      <td>Variant8</td>\n",
       "    </tr>\n",
       "    <tr>\n",
       "      <th>9</th>\n",
       "      <td>1.000341</td>\n",
       "      <td>0.002238</td>\n",
       "      <td>Variant9</td>\n",
       "    </tr>\n",
       "  </tbody>\n",
       "</table>\n",
       "</div>"
      ],
      "text/plain": [
       "   GrowthRate  GrowthRateStd Variant Name\n",
       "0    0.933880       0.010883     Variant0\n",
       "1    0.982832       0.011281     Variant1\n",
       "2    0.999996       0.002663     Variant2\n",
       "3    1.000038       0.001761     Variant3\n",
       "4    1.055174       0.012020     Variant4\n",
       "5    1.000311       0.002909     Variant5\n",
       "6    0.999733       0.002454     Variant6\n",
       "7    1.000086       0.001582     Variant7\n",
       "8    0.994209       0.011249     Variant8\n",
       "9    1.000341       0.002238     Variant9"
      ]
     },
     "execution_count": 11,
     "metadata": {},
     "output_type": "execute_result"
    }
   ],
   "source": [
    "selector.growth_rates"
   ]
  },
  {
   "cell_type": "markdown",
   "id": "9a9601f4",
   "metadata": {},
   "source": [
    "### MCMC stats\n",
    "\n",
    "Additional MCMC stats are in the `selector.stats` dictionary."
   ]
  },
  {
   "cell_type": "code",
   "execution_count": 12,
   "id": "06906796",
   "metadata": {},
   "outputs": [
    {
     "data": {
      "text/plain": [
       "{'Weight quantiles': '5/10/20/50/90/95:  1.84e-16  1.84e-16  2.71e+00  5.11e+00  1.17e+01  1.17e+01',\n",
       " 'Weight moments': 'mean/std/min/max:  6.19e+00  4.16e+00  1.84e-16  1.17e+01'}"
      ]
     },
     "execution_count": 12,
     "metadata": {},
     "output_type": "execute_result"
    }
   ],
   "source": [
    "selector.stats"
   ]
  },
  {
   "cell_type": "markdown",
   "id": "45e3353d",
   "metadata": {},
   "source": [
    "# Compare to MAP inference\n",
    "\n",
    "Let's compare to Maximum A posteriorir (i.e. MAP) inference as in [Inferring effects of mutations on SARS-CoV-2 transmission from genomic surveillance data](https://www.medrxiv.org/content/10.1101/2021.12.31.21268591v2)."
   ]
  },
  {
   "cell_type": "code",
   "execution_count": 13,
   "id": "e835c73d",
   "metadata": {},
   "outputs": [],
   "source": [
    "map_results = map_inference(data['Y'], data['Gamma'], mutations, tau_reg=2048.0)"
   ]
  },
  {
   "cell_type": "code",
   "execution_count": 14,
   "id": "a1264938",
   "metadata": {},
   "outputs": [
    {
     "data": {
      "text/html": [
       "<div>\n",
       "<style scoped>\n",
       "    .dataframe tbody tr th:only-of-type {\n",
       "        vertical-align: middle;\n",
       "    }\n",
       "\n",
       "    .dataframe tbody tr th {\n",
       "        vertical-align: top;\n",
       "    }\n",
       "\n",
       "    .dataframe thead th {\n",
       "        text-align: right;\n",
       "    }\n",
       "</style>\n",
       "<table border=\"1\" class=\"dataframe\">\n",
       "  <thead>\n",
       "    <tr style=\"text-align: right;\">\n",
       "      <th></th>\n",
       "      <th>Beta</th>\n",
       "      <th>BetaStd</th>\n",
       "      <th>Rank</th>\n",
       "    </tr>\n",
       "  </thead>\n",
       "  <tbody>\n",
       "    <tr>\n",
       "      <th>Causal9</th>\n",
       "      <td>-0.053871</td>\n",
       "      <td>0.013094</td>\n",
       "      <td>1</td>\n",
       "    </tr>\n",
       "    <tr>\n",
       "      <th>Causal5</th>\n",
       "      <td>0.049838</td>\n",
       "      <td>0.011433</td>\n",
       "      <td>2</td>\n",
       "    </tr>\n",
       "    <tr>\n",
       "      <th>Causal10</th>\n",
       "      <td>-0.048263</td>\n",
       "      <td>0.011931</td>\n",
       "      <td>3</td>\n",
       "    </tr>\n",
       "    <tr>\n",
       "      <th>Causal4</th>\n",
       "      <td>0.045866</td>\n",
       "      <td>0.010635</td>\n",
       "      <td>4</td>\n",
       "    </tr>\n",
       "    <tr>\n",
       "      <th>Causal3</th>\n",
       "      <td>0.027333</td>\n",
       "      <td>0.011892</td>\n",
       "      <td>5</td>\n",
       "    </tr>\n",
       "    <tr>\n",
       "      <th>Causal8</th>\n",
       "      <td>-0.021542</td>\n",
       "      <td>0.012053</td>\n",
       "      <td>6</td>\n",
       "    </tr>\n",
       "    <tr>\n",
       "      <th>Spurious80</th>\n",
       "      <td>0.020984</td>\n",
       "      <td>0.012280</td>\n",
       "      <td>7</td>\n",
       "    </tr>\n",
       "    <tr>\n",
       "      <th>Spurious44</th>\n",
       "      <td>-0.017381</td>\n",
       "      <td>0.013258</td>\n",
       "      <td>8</td>\n",
       "    </tr>\n",
       "    <tr>\n",
       "      <th>Spurious68</th>\n",
       "      <td>-0.015019</td>\n",
       "      <td>0.012618</td>\n",
       "      <td>9</td>\n",
       "    </tr>\n",
       "    <tr>\n",
       "      <th>Spurious61</th>\n",
       "      <td>0.014249</td>\n",
       "      <td>0.011918</td>\n",
       "      <td>10</td>\n",
       "    </tr>\n",
       "    <tr>\n",
       "      <th>Spurious38</th>\n",
       "      <td>0.014112</td>\n",
       "      <td>0.012659</td>\n",
       "      <td>11</td>\n",
       "    </tr>\n",
       "    <tr>\n",
       "      <th>Spurious85</th>\n",
       "      <td>0.012077</td>\n",
       "      <td>0.011928</td>\n",
       "      <td>12</td>\n",
       "    </tr>\n",
       "    <tr>\n",
       "      <th>Spurious90</th>\n",
       "      <td>0.012060</td>\n",
       "      <td>0.013648</td>\n",
       "      <td>13</td>\n",
       "    </tr>\n",
       "    <tr>\n",
       "      <th>Spurious66</th>\n",
       "      <td>0.011890</td>\n",
       "      <td>0.011577</td>\n",
       "      <td>14</td>\n",
       "    </tr>\n",
       "    <tr>\n",
       "      <th>Spurious70</th>\n",
       "      <td>0.011479</td>\n",
       "      <td>0.013291</td>\n",
       "      <td>15</td>\n",
       "    </tr>\n",
       "  </tbody>\n",
       "</table>\n",
       "</div>"
      ],
      "text/plain": [
       "                Beta   BetaStd  Rank\n",
       "Causal9    -0.053871  0.013094     1\n",
       "Causal5     0.049838  0.011433     2\n",
       "Causal10   -0.048263  0.011931     3\n",
       "Causal4     0.045866  0.010635     4\n",
       "Causal3     0.027333  0.011892     5\n",
       "Causal8    -0.021542  0.012053     6\n",
       "Spurious80  0.020984  0.012280     7\n",
       "Spurious44 -0.017381  0.013258     8\n",
       "Spurious68 -0.015019  0.012618     9\n",
       "Spurious61  0.014249  0.011918    10\n",
       "Spurious38  0.014112  0.012659    11\n",
       "Spurious85  0.012077  0.011928    12\n",
       "Spurious90  0.012060  0.013648    13\n",
       "Spurious66  0.011890  0.011577    14\n",
       "Spurious70  0.011479  0.013291    15"
      ]
     },
     "execution_count": 14,
     "metadata": {},
     "output_type": "execute_result"
    }
   ],
   "source": [
    "# MAP ranks 6/10 of the causal alleles at the top\n",
    "map_results.iloc[:15]"
   ]
  },
  {
   "cell_type": "markdown",
   "id": "322cd58c",
   "metadata": {},
   "source": [
    "# Compare to MAP inference with a sparsity-inducing Laplace prior"
   ]
  },
  {
   "cell_type": "code",
   "execution_count": 15,
   "id": "fd88c5cd",
   "metadata": {},
   "outputs": [
    {
     "name": "stdout",
     "output_type": "stream",
     "text": [
      "step    0 loss = -23.7433\n",
      "step  500 loss = -306.937\n",
      "step 1000 loss = -316.262\n",
      "step 1500 loss = -323.987\n",
      "step 2000 loss = -326.726\n",
      "step 2500 loss = -329.982\n",
      "step 3000 loss = -330.106\n",
      "step 3500 loss = -331.815\n",
      "step 4000 loss = -332.626\n",
      "step 4500 loss = -333.147\n",
      "step 5000 loss = -333.752\n",
      "step 5500 loss = -334.273\n",
      "step 6000 loss = -334.413\n",
      "step 6500 loss = -334.624\n",
      "step 7000 loss = -334.817\n",
      "step 7500 loss = -334.988\n",
      "step 8000 loss = -335.073\n",
      "step 8500 loss = -335.109\n",
      "step 9000 loss = -335.126\n",
      "step 9500 loss = -335.206\n",
      "step 9999 loss = -335.293\n"
     ]
    }
   ],
   "source": [
    "laplace_results = laplace_inference(data['Y'], data['Gamma'], mutations, coef_scale=0.01)"
   ]
  },
  {
   "cell_type": "code",
   "execution_count": 16,
   "id": "631dd246",
   "metadata": {},
   "outputs": [
    {
     "data": {
      "text/html": [
       "<div>\n",
       "<style scoped>\n",
       "    .dataframe tbody tr th:only-of-type {\n",
       "        vertical-align: middle;\n",
       "    }\n",
       "\n",
       "    .dataframe tbody tr th {\n",
       "        vertical-align: top;\n",
       "    }\n",
       "\n",
       "    .dataframe thead th {\n",
       "        text-align: right;\n",
       "    }\n",
       "</style>\n",
       "<table border=\"1\" class=\"dataframe\">\n",
       "  <thead>\n",
       "    <tr style=\"text-align: right;\">\n",
       "      <th></th>\n",
       "      <th>Beta</th>\n",
       "      <th>Rank</th>\n",
       "    </tr>\n",
       "  </thead>\n",
       "  <tbody>\n",
       "    <tr>\n",
       "      <th>Causal5</th>\n",
       "      <td>0.063233</td>\n",
       "      <td>1</td>\n",
       "    </tr>\n",
       "    <tr>\n",
       "      <th>Causal10</th>\n",
       "      <td>-0.060263</td>\n",
       "      <td>2</td>\n",
       "    </tr>\n",
       "    <tr>\n",
       "      <th>Causal9</th>\n",
       "      <td>-0.059013</td>\n",
       "      <td>3</td>\n",
       "    </tr>\n",
       "    <tr>\n",
       "      <th>Causal4</th>\n",
       "      <td>0.049781</td>\n",
       "      <td>4</td>\n",
       "    </tr>\n",
       "    <tr>\n",
       "      <th>Causal3</th>\n",
       "      <td>0.030688</td>\n",
       "      <td>5</td>\n",
       "    </tr>\n",
       "    <tr>\n",
       "      <th>Causal8</th>\n",
       "      <td>-0.027812</td>\n",
       "      <td>6</td>\n",
       "    </tr>\n",
       "    <tr>\n",
       "      <th>Causal7</th>\n",
       "      <td>-0.014381</td>\n",
       "      <td>7</td>\n",
       "    </tr>\n",
       "    <tr>\n",
       "      <th>Spurious80</th>\n",
       "      <td>0.009597</td>\n",
       "      <td>8</td>\n",
       "    </tr>\n",
       "    <tr>\n",
       "      <th>Causal2</th>\n",
       "      <td>0.009088</td>\n",
       "      <td>9</td>\n",
       "    </tr>\n",
       "    <tr>\n",
       "      <th>Spurious61</th>\n",
       "      <td>0.005356</td>\n",
       "      <td>10</td>\n",
       "    </tr>\n",
       "    <tr>\n",
       "      <th>Spurious24</th>\n",
       "      <td>0.005079</td>\n",
       "      <td>11</td>\n",
       "    </tr>\n",
       "    <tr>\n",
       "      <th>Spurious89</th>\n",
       "      <td>-0.005031</td>\n",
       "      <td>12</td>\n",
       "    </tr>\n",
       "    <tr>\n",
       "      <th>Spurious44</th>\n",
       "      <td>-0.003721</td>\n",
       "      <td>13</td>\n",
       "    </tr>\n",
       "    <tr>\n",
       "      <th>Spurious11</th>\n",
       "      <td>-0.003198</td>\n",
       "      <td>14</td>\n",
       "    </tr>\n",
       "    <tr>\n",
       "      <th>Spurious88</th>\n",
       "      <td>0.002844</td>\n",
       "      <td>15</td>\n",
       "    </tr>\n",
       "  </tbody>\n",
       "</table>\n",
       "</div>"
      ],
      "text/plain": [
       "                Beta  Rank\n",
       "Causal5     0.063233     1\n",
       "Causal10   -0.060263     2\n",
       "Causal9    -0.059013     3\n",
       "Causal4     0.049781     4\n",
       "Causal3     0.030688     5\n",
       "Causal8    -0.027812     6\n",
       "Causal7    -0.014381     7\n",
       "Spurious80  0.009597     8\n",
       "Causal2     0.009088     9\n",
       "Spurious61  0.005356    10\n",
       "Spurious24  0.005079    11\n",
       "Spurious89 -0.005031    12\n",
       "Spurious44 -0.003721    13\n",
       "Spurious11 -0.003198    14\n",
       "Spurious88  0.002844    15"
      ]
     },
     "execution_count": 16,
     "metadata": {},
     "output_type": "execute_result"
    }
   ],
   "source": [
    "# Laplace ranks 7-8 of 10 causal alleles at the top with one spurious interloper\n",
    "laplace_results.iloc[:15]"
   ]
  }
 ],
 "metadata": {
  "kernelspec": {
   "display_name": "Python 3",
   "language": "python",
   "name": "python3"
  },
  "language_info": {
   "codemirror_mode": {
    "name": "ipython",
    "version": 3
   },
   "file_extension": ".py",
   "mimetype": "text/x-python",
   "name": "python",
   "nbconvert_exporter": "python",
   "pygments_lexer": "ipython3",
   "version": "3.8.2"
  }
 },
 "nbformat": 4,
 "nbformat_minor": 5
}
