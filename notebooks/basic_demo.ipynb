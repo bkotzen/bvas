{
 "cells": [
  {
   "cell_type": "markdown",
   "id": "3ceb4719",
   "metadata": {},
   "source": [
    "# Basic BVAS demo using simulated data"
   ]
  },
  {
   "cell_type": "code",
   "execution_count": 1,
   "id": "aceebab8",
   "metadata": {},
   "outputs": [],
   "source": [
    "from bvas import simulate_data, BVASSelector"
   ]
  },
  {
   "cell_type": "markdown",
   "id": "fef691b9",
   "metadata": {},
   "source": [
    "### Simulate data"
   ]
  },
  {
   "cell_type": "code",
   "execution_count": 2,
   "id": "8f170790",
   "metadata": {},
   "outputs": [],
   "source": [
    "data = simulate_data(num_alleles=100, \n",
    "                     duration=26, \n",
    "                     num_variants=100, \n",
    "                     num_regions=10, \n",
    "                     N0=10 ** 4,\n",
    "                     k=0.1, \n",
    "                     seed=0, \n",
    "                     sampling_rate=10, \n",
    "                     strategy='global-median')"
   ]
  },
  {
   "cell_type": "code",
   "execution_count": 3,
   "id": "f74e7b1b",
   "metadata": {},
   "outputs": [
    {
     "name": "stdout",
     "output_type": "stream",
     "text": [
      "Y torch.Size([100])\n",
      "Gamma torch.Size([100, 100])\n",
      "estimated_nu_eff (1,)\n",
      "true_betas torch.Size([100])\n",
      "\n",
      "Estimated effective population size: 490.3\n"
     ]
    }
   ],
   "source": [
    "# inspect simulated data\n",
    "for k, v in data.items():\n",
    "    print(k, v.shape)\n",
    "    \n",
    "print(\"\\nEstimated effective population size: {:.1f}\".format(data['estimated_nu_eff'].item()))"
   ]
  },
  {
   "cell_type": "markdown",
   "id": "24a7ce7f",
   "metadata": {},
   "source": [
    "### Instantiate BVASSelector object"
   ]
  },
  {
   "cell_type": "code",
   "execution_count": 4,
   "id": "617cb379",
   "metadata": {},
   "outputs": [],
   "source": [
    "# create names for our 100 alleles (the first 10 alleles are non-neutral in the simulation)\n",
    "mutations = [\"Causal{}\".format(k) for k in range(1, 11)] \n",
    "mutations += [\"Spurious{}\".format(k) for k in range(11, 101)] \n",
    "\n",
    "selector = BVASSelector(data['Y'], \n",
    "                        data['Gamma'], \n",
    "                        mutations, \n",
    "                        S=5.0,\n",
    "                        tau=100.0)"
   ]
  },
  {
   "cell_type": "markdown",
   "id": "884fedf0",
   "metadata": {},
   "source": [
    "### Run BVAS MCMC-based inference"
   ]
  },
  {
   "cell_type": "code",
   "execution_count": 5,
   "id": "77bcb9bd",
   "metadata": {},
   "outputs": [
    {
     "data": {
      "application/vnd.jupyter.widget-view+json": {
       "model_id": "cc591be1cd164f68be7f385dc2537701",
       "version_major": 2,
       "version_minor": 0
      },
      "text/plain": [
       "  0%|          | 0/2500 [00:00<?, ?it/s]"
      ]
     },
     "metadata": {},
     "output_type": "display_data"
    }
   ],
   "source": [
    "selector.run(T=2000, T_burnin=500, seed=1)"
   ]
  },
  {
   "cell_type": "markdown",
   "id": "86691da7",
   "metadata": {},
   "source": [
    "### Inspect results\n",
    "\n",
    "The results can be found in the `selector.summary` Pandas DataFrame.\n",
    "\n",
    "- We find that 8 of the 10 true causal alleles are assigned large PIPs\n",
    "- We find that 2 of the 10 true causal alleles are missed \n",
    "    - Specifically we miss the weakest effects, namely Causal1 and Causal6\n",
    "- We find that no spurious alleles are assigned large PIPs\n",
    "- We see that the Beta estimates are regularized somewhat towards zero"
   ]
  },
  {
   "cell_type": "code",
   "execution_count": 6,
   "id": "f1ae71fd",
   "metadata": {},
   "outputs": [
    {
     "name": "stdout",
     "output_type": "stream",
     "text": [
      "                 PIP      Beta   BetaStd  Rank\n",
      "Causal4     0.999999  0.051191  0.006197     1\n",
      "Causal5     0.999999  0.065880  0.006351     2\n",
      "Causal10    0.999999 -0.068456  0.009001     3\n",
      "Causal9     0.999999 -0.066190  0.010773     4\n",
      "Causal3     0.999917  0.038770  0.007014     5\n",
      "Causal8     0.889151 -0.027527  0.012958     6\n",
      "Causal7     0.254103 -0.005840  0.011050     7\n",
      "Causal2     0.137435  0.004219  0.009328     8\n",
      "Spurious89  0.022826 -0.000246  0.002102     9\n",
      "Spurious24  0.017642  0.000132  0.001421    10\n",
      "Spurious70  0.015575  0.000216  0.001960    11\n",
      "Spurious80  0.013852  0.000077  0.001198    12\n",
      "Spurious21  0.011893  0.000030  0.000733    13\n",
      "Spurious16  0.009505 -0.000049  0.000814    14\n",
      "Spurious44  0.009007 -0.000085  0.001199    15\n"
     ]
    }
   ],
   "source": [
    "print(selector.summary.iloc[:15][['PIP', 'Beta', 'BetaStd', 'Rank']])"
   ]
  },
  {
   "cell_type": "code",
   "execution_count": 9,
   "id": "6d2a48cd",
   "metadata": {},
   "outputs": [
    {
     "name": "stdout",
     "output_type": "stream",
     "text": [
      "[Causal1]\t0.01\n",
      "[Causal2]\t0.02\n",
      "[Causal3]\t0.04\n",
      "[Causal4]\t0.06\n",
      "[Causal5]\t0.08\n",
      "[Causal6]\t-0.01\n",
      "[Causal7]\t-0.02\n",
      "[Causal8]\t-0.04\n",
      "[Causal9]\t-0.06\n",
      "[Causal10]\t-0.08\n"
     ]
    }
   ],
   "source": [
    "# print true betas for the causal coefficients\n",
    "for mutation, beta in zip(mutations[:10], data['true_betas'][:10]):\n",
    "    print(\"[{}]\\t{:.2f}\".format(mutation, beta.item()))"
   ]
  },
  {
   "cell_type": "code",
   "execution_count": 10,
   "id": "e5b9424c",
   "metadata": {},
   "outputs": [],
   "source": [
    "# the remaining coefficients are all zero\n",
    "assert data['true_betas'][10:].min().item() == data['true_betas'][10:].max().item() == 0.0"
   ]
  }
 ],
 "metadata": {
  "kernelspec": {
   "display_name": "Python 3",
   "language": "python",
   "name": "python3"
  },
  "language_info": {
   "codemirror_mode": {
    "name": "ipython",
    "version": 3
   },
   "file_extension": ".py",
   "mimetype": "text/x-python",
   "name": "python",
   "nbconvert_exporter": "python",
   "pygments_lexer": "ipython3",
   "version": "3.8.2"
  }
 },
 "nbformat": 4,
 "nbformat_minor": 5
}
