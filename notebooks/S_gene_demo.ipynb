{
 "cells": [
  {
   "cell_type": "markdown",
   "id": "f4a2391b",
   "metadata": {},
   "source": [
    "# Basic BVAS demo using GISAID S-gene data"
   ]
  },
  {
   "cell_type": "code",
   "execution_count": 2,
   "id": "9043d892",
   "metadata": {},
   "outputs": [],
   "source": [
    "import torch\n",
    "import gzip\n",
    "from bvas import BVASSelector"
   ]
  },
  {
   "cell_type": "markdown",
   "id": "abb053d7",
   "metadata": {},
   "source": [
    "### Load data"
   ]
  },
  {
   "cell_type": "code",
   "execution_count": 5,
   "id": "276c8ab9",
   "metadata": {},
   "outputs": [],
   "source": [
    "data = torch.load(gzip.GzipFile(\"../data/S_gene.pt.gz\", \"rb\"), map_location='cpu')"
   ]
  },
  {
   "cell_type": "code",
   "execution_count": 9,
   "id": "df657975",
   "metadata": {},
   "outputs": [
    {
     "name": "stdout",
     "output_type": "stream",
     "text": [
      "Gamma torch.Size([415, 415])\n",
      "Y torch.Size([415])\n",
      "num_alleles 415\n",
      "num_regions 74\n",
      "mutations 415\n"
     ]
    }
   ],
   "source": [
    "# inspect data\n",
    "for k, v in data.items():\n",
    "    if hasattr(v, 'shape'):\n",
    "        print(k, v.shape)\n",
    "    elif isinstance(v, list):\n",
    "        print(k, len(v))\n",
    "    else:\n",
    "        print(k, v)"
   ]
  },
  {
   "cell_type": "markdown",
   "id": "66760e4b",
   "metadata": {},
   "source": [
    "### Instantiate BVASSelector object"
   ]
  },
  {
   "cell_type": "code",
   "execution_count": 19,
   "id": "95e3e2b0",
   "metadata": {},
   "outputs": [],
   "source": [
    "selector = BVASSelector(data['Y'], \n",
    "                        data['Gamma'], \n",
    "                        data['mutations'], \n",
    "                        nu_eff=0.25,\n",
    "                        S=5.0,\n",
    "                        tau=100.0)"
   ]
  },
  {
   "cell_type": "markdown",
   "id": "dbe8697e",
   "metadata": {},
   "source": [
    "### Run BVAS MCMC-based inference"
   ]
  },
  {
   "cell_type": "code",
   "execution_count": 20,
   "id": "454050ae",
   "metadata": {},
   "outputs": [
    {
     "data": {
      "application/vnd.jupyter.widget-view+json": {
       "model_id": "6784b28c2b0f4be4a766661933ee8917",
       "version_major": 2,
       "version_minor": 0
      },
      "text/plain": [
       "  0%|          | 0/6000 [00:00<?, ?it/s]"
      ]
     },
     "metadata": {},
     "output_type": "display_data"
    }
   ],
   "source": [
    "selector.run(T=5000, T_burnin=1000, seed=1)"
   ]
  },
  {
   "cell_type": "markdown",
   "id": "fcebe733",
   "metadata": {},
   "source": [
    "### Inspect results\n",
    "\n",
    "The results can be found in the `selector.summary` Pandas DataFrame."
   ]
  },
  {
   "cell_type": "code",
   "execution_count": 21,
   "id": "c91b258b",
   "metadata": {},
   "outputs": [
    {
     "name": "stdout",
     "output_type": "stream",
     "text": [
      "              PIP      Beta   BetaStd  Rank\n",
      "S:P681R  0.999999  0.441865  0.051502     1\n",
      "S:R346K  0.999999  0.480412  0.058526     2\n",
      "S:T478K  0.999999  0.482250  0.074330     3\n",
      "S:L452R  0.999999  0.493581  0.060148     4\n",
      "S:T19R   0.999999  0.556054  0.075308     5\n",
      "S:E484K  0.999999  0.322367  0.033767     6\n",
      "S:N440K  0.999999  0.490195  0.071954     7\n",
      "S:N501Y  0.999138  0.286523  0.045726     8\n",
      "S:T95I   0.998577  0.305510  0.085458     9\n",
      "S:N969K  0.996153  0.432462  0.103096    10\n",
      "S:Q954H  0.995751  0.430293  0.103179    11\n",
      "S:G339D  0.995335  0.426014  0.087030    12\n",
      "S:N679K  0.993701  0.397688  0.097671    13\n",
      "S:N764K  0.983076  0.383790  0.108570    14\n",
      "S:S375F  0.977092  0.367649  0.113546    15\n",
      "S:S373P  0.976986  0.366454  0.111106    16\n",
      "S:T859N  0.973080  0.263941  0.087984    17\n",
      "S:S477N  0.932228  0.132079  0.055168    18\n",
      "S:T716I  0.884272  0.257693  0.123831    19\n",
      "S:Y145H  0.873942  0.194100  0.089103    20\n",
      "S:H655Y  0.851670  0.256922  0.121269    21\n",
      "S:P681H  0.698619  0.122920  0.063312    22\n",
      "S:D405N  0.688939  0.251585  0.148913    23\n",
      "S:R408S  0.667445  0.228728  0.160099    24\n",
      "S:T376A  0.655198  0.210864  0.165257    25\n",
      "S:T19I   0.646031  0.196540  0.166780    26\n",
      "S:V213G  0.633926  0.194436  0.168401    27\n",
      "S:S371F  0.623329  0.168476  0.169534    28\n",
      "S:K77T   0.606368 -0.111723  0.114092    29\n",
      "S:D253G  0.484199  0.103822  0.101704    30\n"
     ]
    }
   ],
   "source": [
    "print(selector.summary.iloc[:30][['PIP', 'Beta', 'BetaStd', 'Rank']])"
   ]
  }
 ],
 "metadata": {
  "kernelspec": {
   "display_name": "Python 3",
   "language": "python",
   "name": "python3"
  },
  "language_info": {
   "codemirror_mode": {
    "name": "ipython",
    "version": 3
   },
   "file_extension": ".py",
   "mimetype": "text/x-python",
   "name": "python",
   "nbconvert_exporter": "python",
   "pygments_lexer": "ipython3",
   "version": "3.8.2"
  }
 },
 "nbformat": 4,
 "nbformat_minor": 5
}
