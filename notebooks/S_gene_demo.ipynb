{
 "cells": [
  {
   "cell_type": "markdown",
   "id": "ce83aba1",
   "metadata": {},
   "source": [
    "# Basic BVAS demo using GISAID S-gene data"
   ]
  },
  {
   "cell_type": "code",
   "execution_count": 7,
   "id": "afd5b6da",
   "metadata": {},
   "outputs": [],
   "source": [
    "import torch\n",
    "import gzip\n",
    "from bvas import BVASSelector, map_inference"
   ]
  },
  {
   "cell_type": "markdown",
   "id": "6906792c",
   "metadata": {},
   "source": [
    "### Load data"
   ]
  },
  {
   "cell_type": "code",
   "execution_count": 2,
   "id": "ab8577a7",
   "metadata": {},
   "outputs": [],
   "source": [
    "data = torch.load(gzip.GzipFile(\"../data/S_gene.pt.gz\", \"rb\"), map_location='cpu')"
   ]
  },
  {
   "cell_type": "code",
   "execution_count": 3,
   "id": "d744134c",
   "metadata": {},
   "outputs": [
    {
     "name": "stdout",
     "output_type": "stream",
     "text": [
      "Gamma torch.Size([415, 415])\n",
      "Y torch.Size([415])\n",
      "num_alleles 415\n",
      "num_regions 74\n",
      "mutations 415\n"
     ]
    }
   ],
   "source": [
    "# inspect data\n",
    "for k, v in data.items():\n",
    "    if hasattr(v, 'shape'):\n",
    "        print(k, v.shape)\n",
    "    elif isinstance(v, list):\n",
    "        print(k, len(v))\n",
    "    else:\n",
    "        print(k, v)"
   ]
  },
  {
   "cell_type": "markdown",
   "id": "5699e833",
   "metadata": {},
   "source": [
    "### Instantiate BVASSelector object"
   ]
  },
  {
   "cell_type": "code",
   "execution_count": 4,
   "id": "bfa2872a",
   "metadata": {},
   "outputs": [],
   "source": [
    "selector = BVASSelector(data['Y'], \n",
    "                        data['Gamma'], \n",
    "                        data['mutations'], \n",
    "                        nu_eff=0.25,\n",
    "                        S=5.0,\n",
    "                        tau=100.0)"
   ]
  },
  {
   "cell_type": "markdown",
   "id": "77fd44af",
   "metadata": {},
   "source": [
    "### Run BVAS MCMC-based inference"
   ]
  },
  {
   "cell_type": "code",
   "execution_count": 5,
   "id": "2d46b2d4",
   "metadata": {},
   "outputs": [
    {
     "data": {
      "application/vnd.jupyter.widget-view+json": {
       "model_id": "0ee0007c73f847318b1c5a22e9ddccc9",
       "version_major": 2,
       "version_minor": 0
      },
      "text/plain": [
       "  0%|          | 0/6000 [00:00<?, ?it/s]"
      ]
     },
     "metadata": {},
     "output_type": "display_data"
    }
   ],
   "source": [
    "selector.run(T=5000, T_burnin=1000, seed=1)"
   ]
  },
  {
   "cell_type": "markdown",
   "id": "988029f4",
   "metadata": {},
   "source": [
    "### Inspect results\n",
    "\n",
    "The results can be found in the `selector.summary` Pandas DataFrame."
   ]
  },
  {
   "cell_type": "code",
   "execution_count": 6,
   "id": "09cd470b",
   "metadata": {},
   "outputs": [
    {
     "name": "stdout",
     "output_type": "stream",
     "text": [
      "              PIP      Beta   BetaStd  Rank\n",
      "S:P681R  0.999999  0.441865  0.051502     1\n",
      "S:R346K  0.999999  0.480412  0.058526     2\n",
      "S:T478K  0.999999  0.482250  0.074330     3\n",
      "S:L452R  0.999999  0.493581  0.060148     4\n",
      "S:T19R   0.999999  0.556053  0.075309     5\n",
      "S:E484K  0.999999  0.322367  0.033767     6\n",
      "S:N440K  0.999999  0.490195  0.071955     7\n",
      "S:N501Y  0.999138  0.286523  0.045726     8\n",
      "S:T95I   0.998577  0.305510  0.085458     9\n",
      "S:N969K  0.996153  0.432462  0.103096    10\n",
      "S:Q954H  0.995751  0.430293  0.103179    11\n",
      "S:G339D  0.995335  0.426014  0.087030    12\n",
      "S:N679K  0.993701  0.397688  0.097671    13\n",
      "S:N764K  0.983076  0.383790  0.108570    14\n",
      "S:S375F  0.977092  0.367649  0.113546    15\n",
      "S:S373P  0.976986  0.366454  0.111106    16\n",
      "S:T859N  0.973080  0.263941  0.087984    17\n",
      "S:S477N  0.932228  0.132079  0.055168    18\n",
      "S:T716I  0.884272  0.257693  0.123831    19\n",
      "S:Y145H  0.873942  0.194100  0.089103    20\n",
      "S:H655Y  0.851670  0.256922  0.121269    21\n",
      "S:P681H  0.698619  0.122920  0.063312    22\n",
      "S:D405N  0.688939  0.251585  0.148913    23\n",
      "S:R408S  0.667445  0.228728  0.160099    24\n",
      "S:T376A  0.655198  0.210864  0.165257    25\n",
      "S:T19I   0.646031  0.196540  0.166780    26\n",
      "S:V213G  0.633926  0.194436  0.168401    27\n",
      "S:S371F  0.623329  0.168476  0.169534    28\n",
      "S:K77T   0.606368 -0.111723  0.114092    29\n",
      "S:D253G  0.484199  0.103822  0.101704    30\n"
     ]
    }
   ],
   "source": [
    "print(selector.summary.iloc[:30][['PIP', 'Beta', 'BetaStd', 'Rank']])"
   ]
  },
  {
   "cell_type": "markdown",
   "id": "ab330c09",
   "metadata": {},
   "source": [
    "## Let's compare to MAP inference"
   ]
  },
  {
   "cell_type": "code",
   "execution_count": 9,
   "id": "62d1ab56",
   "metadata": {},
   "outputs": [],
   "source": [
    "map_results = map_inference(data['Y'], data['Gamma'], data['mutations'], tau_reg=2048.0)"
   ]
  },
  {
   "cell_type": "code",
   "execution_count": 11,
   "id": "21fa17d8",
   "metadata": {},
   "outputs": [
    {
     "data": {
      "text/html": [
       "<div>\n",
       "<style scoped>\n",
       "    .dataframe tbody tr th:only-of-type {\n",
       "        vertical-align: middle;\n",
       "    }\n",
       "\n",
       "    .dataframe tbody tr th {\n",
       "        vertical-align: top;\n",
       "    }\n",
       "\n",
       "    .dataframe thead th {\n",
       "        text-align: right;\n",
       "    }\n",
       "</style>\n",
       "<table border=\"1\" class=\"dataframe\">\n",
       "  <thead>\n",
       "    <tr style=\"text-align: right;\">\n",
       "      <th></th>\n",
       "      <th>Beta</th>\n",
       "      <th>BetaStd</th>\n",
       "      <th>Rank</th>\n",
       "    </tr>\n",
       "  </thead>\n",
       "  <tbody>\n",
       "    <tr>\n",
       "      <th>S:T478K</th>\n",
       "      <td>0.479280</td>\n",
       "      <td>0.016720</td>\n",
       "      <td>1</td>\n",
       "    </tr>\n",
       "    <tr>\n",
       "      <th>S:L452R</th>\n",
       "      <td>0.403807</td>\n",
       "      <td>0.015633</td>\n",
       "      <td>2</td>\n",
       "    </tr>\n",
       "    <tr>\n",
       "      <th>S:T19R</th>\n",
       "      <td>0.401983</td>\n",
       "      <td>0.018214</td>\n",
       "      <td>3</td>\n",
       "    </tr>\n",
       "    <tr>\n",
       "      <th>S:P681R</th>\n",
       "      <td>0.385612</td>\n",
       "      <td>0.017929</td>\n",
       "      <td>4</td>\n",
       "    </tr>\n",
       "    <tr>\n",
       "      <th>S:N440K</th>\n",
       "      <td>0.255411</td>\n",
       "      <td>0.019505</td>\n",
       "      <td>5</td>\n",
       "    </tr>\n",
       "    <tr>\n",
       "      <th>S:R346K</th>\n",
       "      <td>0.232117</td>\n",
       "      <td>0.018944</td>\n",
       "      <td>6</td>\n",
       "    </tr>\n",
       "    <tr>\n",
       "      <th>S:T95I</th>\n",
       "      <td>0.226313</td>\n",
       "      <td>0.016852</td>\n",
       "      <td>7</td>\n",
       "    </tr>\n",
       "    <tr>\n",
       "      <th>S:N969K</th>\n",
       "      <td>0.223328</td>\n",
       "      <td>0.021557</td>\n",
       "      <td>8</td>\n",
       "    </tr>\n",
       "    <tr>\n",
       "      <th>S:Q954H</th>\n",
       "      <td>0.222891</td>\n",
       "      <td>0.021557</td>\n",
       "      <td>9</td>\n",
       "    </tr>\n",
       "    <tr>\n",
       "      <th>S:G339D</th>\n",
       "      <td>0.222523</td>\n",
       "      <td>0.021557</td>\n",
       "      <td>10</td>\n",
       "    </tr>\n",
       "    <tr>\n",
       "      <th>S:N679K</th>\n",
       "      <td>0.220374</td>\n",
       "      <td>0.021292</td>\n",
       "      <td>11</td>\n",
       "    </tr>\n",
       "    <tr>\n",
       "      <th>S:H655Y</th>\n",
       "      <td>0.214477</td>\n",
       "      <td>0.020056</td>\n",
       "      <td>12</td>\n",
       "    </tr>\n",
       "    <tr>\n",
       "      <th>S:S373P</th>\n",
       "      <td>0.213697</td>\n",
       "      <td>0.021375</td>\n",
       "      <td>13</td>\n",
       "    </tr>\n",
       "    <tr>\n",
       "      <th>S:S375F</th>\n",
       "      <td>0.213697</td>\n",
       "      <td>0.021375</td>\n",
       "      <td>14</td>\n",
       "    </tr>\n",
       "    <tr>\n",
       "      <th>S:N764K</th>\n",
       "      <td>0.213502</td>\n",
       "      <td>0.021403</td>\n",
       "      <td>15</td>\n",
       "    </tr>\n",
       "    <tr>\n",
       "      <th>S:N501Y</th>\n",
       "      <td>0.212104</td>\n",
       "      <td>0.016656</td>\n",
       "      <td>16</td>\n",
       "    </tr>\n",
       "    <tr>\n",
       "      <th>S:D796Y</th>\n",
       "      <td>0.195433</td>\n",
       "      <td>0.021086</td>\n",
       "      <td>17</td>\n",
       "    </tr>\n",
       "    <tr>\n",
       "      <th>S:Q493R</th>\n",
       "      <td>0.175370</td>\n",
       "      <td>0.021422</td>\n",
       "      <td>18</td>\n",
       "    </tr>\n",
       "    <tr>\n",
       "      <th>S:Y505H</th>\n",
       "      <td>0.175359</td>\n",
       "      <td>0.021422</td>\n",
       "      <td>19</td>\n",
       "    </tr>\n",
       "    <tr>\n",
       "      <th>S:E484A</th>\n",
       "      <td>0.175349</td>\n",
       "      <td>0.021422</td>\n",
       "      <td>20</td>\n",
       "    </tr>\n",
       "    <tr>\n",
       "      <th>S:E484K</th>\n",
       "      <td>0.172017</td>\n",
       "      <td>0.015439</td>\n",
       "      <td>21</td>\n",
       "    </tr>\n",
       "    <tr>\n",
       "      <th>S:P681H</th>\n",
       "      <td>0.164017</td>\n",
       "      <td>0.014328</td>\n",
       "      <td>22</td>\n",
       "    </tr>\n",
       "    <tr>\n",
       "      <th>S:K417N</th>\n",
       "      <td>0.157449</td>\n",
       "      <td>0.018647</td>\n",
       "      <td>23</td>\n",
       "    </tr>\n",
       "    <tr>\n",
       "      <th>S:Q498R</th>\n",
       "      <td>0.151625</td>\n",
       "      <td>0.021281</td>\n",
       "      <td>24</td>\n",
       "    </tr>\n",
       "    <tr>\n",
       "      <th>S:D405N</th>\n",
       "      <td>0.125156</td>\n",
       "      <td>0.021687</td>\n",
       "      <td>25</td>\n",
       "    </tr>\n",
       "    <tr>\n",
       "      <th>S:S371F</th>\n",
       "      <td>0.125145</td>\n",
       "      <td>0.021686</td>\n",
       "      <td>26</td>\n",
       "    </tr>\n",
       "    <tr>\n",
       "      <th>S:T19I</th>\n",
       "      <td>0.125106</td>\n",
       "      <td>0.021674</td>\n",
       "      <td>27</td>\n",
       "    </tr>\n",
       "    <tr>\n",
       "      <th>S:V213G</th>\n",
       "      <td>0.125066</td>\n",
       "      <td>0.021670</td>\n",
       "      <td>28</td>\n",
       "    </tr>\n",
       "    <tr>\n",
       "      <th>S:R408S</th>\n",
       "      <td>0.125014</td>\n",
       "      <td>0.021687</td>\n",
       "      <td>29</td>\n",
       "    </tr>\n",
       "    <tr>\n",
       "      <th>S:T376A</th>\n",
       "      <td>0.125014</td>\n",
       "      <td>0.021687</td>\n",
       "      <td>30</td>\n",
       "    </tr>\n",
       "  </tbody>\n",
       "</table>\n",
       "</div>"
      ],
      "text/plain": [
       "             Beta   BetaStd  Rank\n",
       "S:T478K  0.479280  0.016720     1\n",
       "S:L452R  0.403807  0.015633     2\n",
       "S:T19R   0.401983  0.018214     3\n",
       "S:P681R  0.385612  0.017929     4\n",
       "S:N440K  0.255411  0.019505     5\n",
       "S:R346K  0.232117  0.018944     6\n",
       "S:T95I   0.226313  0.016852     7\n",
       "S:N969K  0.223328  0.021557     8\n",
       "S:Q954H  0.222891  0.021557     9\n",
       "S:G339D  0.222523  0.021557    10\n",
       "S:N679K  0.220374  0.021292    11\n",
       "S:H655Y  0.214477  0.020056    12\n",
       "S:S373P  0.213697  0.021375    13\n",
       "S:S375F  0.213697  0.021375    14\n",
       "S:N764K  0.213502  0.021403    15\n",
       "S:N501Y  0.212104  0.016656    16\n",
       "S:D796Y  0.195433  0.021086    17\n",
       "S:Q493R  0.175370  0.021422    18\n",
       "S:Y505H  0.175359  0.021422    19\n",
       "S:E484A  0.175349  0.021422    20\n",
       "S:E484K  0.172017  0.015439    21\n",
       "S:P681H  0.164017  0.014328    22\n",
       "S:K417N  0.157449  0.018647    23\n",
       "S:Q498R  0.151625  0.021281    24\n",
       "S:D405N  0.125156  0.021687    25\n",
       "S:S371F  0.125145  0.021686    26\n",
       "S:T19I   0.125106  0.021674    27\n",
       "S:V213G  0.125066  0.021670    28\n",
       "S:R408S  0.125014  0.021687    29\n",
       "S:T376A  0.125014  0.021687    30"
      ]
     },
     "execution_count": 11,
     "metadata": {},
     "output_type": "execute_result"
    }
   ],
   "source": [
    "map_results.iloc[:30]"
   ]
  },
  {
   "cell_type": "markdown",
   "id": "4d50b17a",
   "metadata": {},
   "source": [
    "### Compare uncertainty estimates\n",
    "\n",
    "We note that the MAP uncertainty estimates are much narrower than the \n",
    "corresponding BVAS uncertainty estimates. This is ultimatedly due to\n",
    "the fact that BVAS considers multiple hypotheses about which alleles\n",
    "are neutral and which are not."
   ]
  },
  {
   "cell_type": "code",
   "execution_count": 16,
   "id": "835b9625",
   "metadata": {},
   "outputs": [
    {
     "data": {
      "text/plain": [
       "0.07433029264211655"
      ]
     },
     "execution_count": 16,
     "metadata": {},
     "output_type": "execute_result"
    }
   ],
   "source": [
    "# BVAS posterior standard deviation of selection coefficient for S:T478K \n",
    "selector.summary.loc['S:T478K'].BetaStd"
   ]
  },
  {
   "cell_type": "code",
   "execution_count": 18,
   "id": "78e794de",
   "metadata": {},
   "outputs": [
    {
     "data": {
      "text/plain": [
       "0.016719751060009003"
      ]
     },
     "execution_count": 18,
     "metadata": {},
     "output_type": "execute_result"
    }
   ],
   "source": [
    "# MAP posterior standard deviation of selection coefficient for S:T478K \n",
    "map_results.loc['S:T478K'].BetaStd"
   ]
  },
  {
   "cell_type": "code",
   "execution_count": 21,
   "id": "b8fbc0e3",
   "metadata": {},
   "outputs": [
    {
     "data": {
      "text/plain": [
       "4.44565785551095"
      ]
     },
     "execution_count": 21,
     "metadata": {},
     "output_type": "execute_result"
    }
   ],
   "source": [
    "# compute ratio\n",
    "selector.summary.loc['S:T478K'].BetaStd / map_results.loc['S:T478K'].BetaStd"
   ]
  }
 ],
 "metadata": {
  "kernelspec": {
   "display_name": "Python 3",
   "language": "python",
   "name": "python3"
  },
  "language_info": {
   "codemirror_mode": {
    "name": "ipython",
    "version": 3
   },
   "file_extension": ".py",
   "mimetype": "text/x-python",
   "name": "python",
   "nbconvert_exporter": "python",
   "pygments_lexer": "ipython3",
   "version": "3.8.2"
  }
 },
 "nbformat": 4,
 "nbformat_minor": 5
}
